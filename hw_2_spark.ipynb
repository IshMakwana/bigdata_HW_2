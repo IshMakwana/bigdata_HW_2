{
 "cells": [
  {
   "cell_type": "code",
   "execution_count": 1,
   "metadata": {},
   "outputs": [
    {
     "name": "stderr",
     "output_type": "stream",
     "text": [
      "Setting default log level to \"WARN\".\n",
      "To adjust logging level use sc.setLogLevel(newLevel). For SparkR, use setLogLevel(newLevel).\n",
      "24/04/07 19:18:23 WARN NativeCodeLoader: Unable to load native-hadoop library for your platform... using builtin-java classes where applicable\n",
      "24/04/07 19:18:24 WARN Utils: Service 'SparkUI' could not bind on port 4040. Attempting port 4041.\n"
     ]
    },
    {
     "name": "stdout",
     "output_type": "stream",
     "text": [
      "root\n",
      " |-- Index: string (nullable = true)\n",
      " |-- UserID: integer (nullable = true)\n",
      " |-- UserName: string (nullable = true)\n",
      " |-- WatchedMovie: boolean (nullable = true)\n",
      " |-- MovieGenre: string (nullable = true)\n",
      " |-- SessionLength: integer (nullable = true)\n",
      " |-- LastLoginDate: date (nullable = true)\n",
      "\n",
      "+-----+------+------------------+------------+--------------------+-------------+-------------+\n",
      "|Index|UserID|          UserName|WatchedMovie|          MovieGenre|SessionLength|LastLoginDate|\n",
      "+-----+------+------------------+------------+--------------------+-------------+-------------+\n",
      "|    0| 34557|    Leslie Shelton|       false|                NULL|          175|   2012-04-30|\n",
      "|    1| 48013|    Hannah Sanders|       false|                NULL|         1409|   2020-05-30|\n",
      "|    2| 13230|Christopher Torres|        true|     Adventure Drama|          181|   2009-11-25|\n",
      "|    3| 18988|Christopher Stokes|        true|Animation Adventu...|          179|   2022-02-15|\n",
      "|    4| 29844|          Joel Cox|       false|                NULL|          227|   2012-06-09|\n",
      "|    5| 12305|       Jerry Perez|       false|                NULL|          288|   2015-05-10|\n",
      "|    6| 32806|      Paula Graham|        true|Adventure Biograp...|         1104|   2018-10-10|\n",
      "|    7| 18269|    George Watkins|        true|Action Mystery Th...|          767|   2019-08-20|\n",
      "|    8| 49081|     Alexis Robles|        true|     Action Thriller|          689|   2007-05-31|\n",
      "|    9| 37028|    Regina Aguirre|        true|    Mystery Thriller|          312|   2015-12-06|\n",
      "|   10|  3069|        Hannah Kim|       false|                NULL|           12|   2019-09-01|\n",
      "|   11| 30057|        Kim Little|       false|                NULL|          499|   2004-04-09|\n",
      "|   12| 24335|      Bryce Fowler|       false|                NULL|          742|   2019-12-13|\n",
      "|   13| 41663|      Amy Marshall|        true|Drama Mystery Sci-Fi|          177|   2012-07-30|\n",
      "|   14| 11286|   Jeffrey Hickman|       false|                NULL|          335|   2018-12-19|\n",
      "|   15| 25286|     Rhonda Wilson|       false|                NULL|         1010|   2002-11-06|\n",
      "|   16| 32032|    William Ibarra|        true|Action Mystery Th...|          605|   2018-12-13|\n",
      "|   17|  9939|       Nathan Ward|        true|    Mystery Thriller|          367|   2002-05-15|\n",
      "|   18| 15472|  Patricia Freeman|        true|Action Crime Dram...|          815|   2016-02-01|\n",
      "|   19| 37274|  Christopher Pace|       false|                NULL|         1174|   2001-05-26|\n",
      "+-----+------+------------------+------------+--------------------+-------------+-------------+\n",
      "only showing top 20 rows\n",
      "\n"
     ]
    }
   ],
   "source": [
    "from pyspark.sql.functions import to_date, months_between, current_date, datediff, col\n",
    "from pyspark.sql import SparkSession\n",
    "from pyspark.sql.types import IntegerType, BooleanType\n",
    "\n",
    "spark = SparkSession.builder.getOrCreate()\n",
    "\n",
    "# Ignore all logs except errors when running this script on pyspark (i.e. spark-submit)\n",
    "spark.sparkContext.setLogLevel('ERROR')\n",
    "\n",
    "# Task 1\n",
    "# Read json dataset into a DataFrame and apply the schema defined above.\n",
    "df = spark.read.csv('hw_2_user_data.csv', header=True) \n",
    "\n",
    "# Rename columns. \n",
    "df = df.withColumnRenamed('_c0', 'Index')\\\n",
    "       .withColumn('UserID', df['UserID'].cast(IntegerType()))\\\n",
    "       .withColumn('SessionLength', df['SessionLength'].cast(IntegerType()))\\\n",
    "       .withColumn('WatchedMovie', df['WatchedMovie'].cast(BooleanType()))\\\n",
    "       .withColumn('LastLoginDate', to_date(df['LastLoginDate']))\n",
    "\n",
    "\n",
    "\n",
    "# Display the updated schema \n",
    "df.printSchema()\n",
    "# Display data\n",
    "df.show()\n"
   ]
  },
  {
   "cell_type": "code",
   "execution_count": 2,
   "metadata": {},
   "outputs": [
    {
     "name": "stdout",
     "output_type": "stream",
     "text": [
      "+--------------------+-----+\n",
      "|          MovieGenre|count|\n",
      "+--------------------+-----+\n",
      "|    Action Adventure| 1557|\n",
      "|Action Adventure ...| 1624|\n",
      "|Action Adventure ...| 1577|\n",
      "|Action Adventure ...| 1643|\n",
      "|Action Adventure ...| 1583|\n",
      "|Action Adventure ...| 1598|\n",
      "|Action Adventure ...| 1603|\n",
      "|Action Adventure ...| 1582|\n",
      "|Action Adventure ...| 1553|\n",
      "|Action Adventure ...| 1598|\n",
      "|Action Adventure ...| 1628|\n",
      "|Action Adventure ...| 1583|\n",
      "|Action Biography ...| 1642|\n",
      "|        Action Crime| 1565|\n",
      "|Action Crime Dram...| 1580|\n",
      "|Action Crime Fant...| 1506|\n",
      "|Action Crime Thri...| 1563|\n",
      "|Action Drama Thri...| 1553|\n",
      "|    Action Drama War| 1600|\n",
      "|Action Mystery Sc...| 1609|\n",
      "+--------------------+-----+\n",
      "only showing top 20 rows\n",
      "\n"
     ]
    }
   ],
   "source": [
    "# Task 2\n",
    "# Calculate the total number of watched movies for each genre.\n",
    "df.filter(df.WatchedMovie == True).groupBy('MovieGenre').count()\\\n",
    "       .orderBy('MovieGenre').show()"
   ]
  },
  {
   "cell_type": "code",
   "execution_count": 3,
   "metadata": {},
   "outputs": [
    {
     "data": {
      "text/plain": [
       "1878"
      ]
     },
     "execution_count": 3,
     "metadata": {},
     "output_type": "execute_result"
    }
   ],
   "source": [
    "# Task 3\n",
    "# Identify the number of unique users who logged in during the last three months.\n",
    "df.filter(months_between(current_date(), df.LastLoginDate) <= 3)\\\n",
    "       .select('UserName').distinct().count()"
   ]
  },
  {
   "cell_type": "code",
   "execution_count": 4,
   "metadata": {},
   "outputs": [
    {
     "name": "stdout",
     "output_type": "stream",
     "text": [
      "+------+-------------------+------------------+\n",
      "|UserID|count(WatchedMovie)|avg(SessionLength)|\n",
      "+------+-------------------+------------------+\n",
      "|     2|                  3|             839.0|\n",
      "|     6|                  4|            783.75|\n",
      "|     9|                  3| 788.6666666666666|\n",
      "|    13|                  4|             998.5|\n",
      "|    17|                  3| 979.6666666666666|\n",
      "|    20|                  4|             737.0|\n",
      "|    21|                  3|             702.0|\n",
      "|    22|                  5|             490.0|\n",
      "|    26|                  3| 350.6666666666667|\n",
      "|    31|                  5|             447.8|\n",
      "|    32|                  3| 695.3333333333334|\n",
      "|    35|                  3| 840.6666666666666|\n",
      "|    36|                  4|            454.75|\n",
      "|    37|                  3| 762.6666666666666|\n",
      "|    38|                  4|            631.75|\n",
      "|    40|                  4|             717.5|\n",
      "|    41|                  3| 484.6666666666667|\n",
      "|    44|                  3| 419.6666666666667|\n",
      "|    48|                  3|             125.0|\n",
      "|    50|                  4|            764.75|\n",
      "+------+-------------------+------------------+\n",
      "only showing top 20 rows\n",
      "\n"
     ]
    }
   ],
   "source": [
    "# Task 4\n",
    "# Determine the average session length for users who have watched more than two movies.\n",
    "\n",
    "# find users who have watched \n",
    "df.filter(df.WatchedMovie == True)\\\n",
    "    .groupBy('UserID').agg({'WatchedMovie': 'count', 'SessionLength': 'mean'})\\\n",
    "    .where(col('count(WatchedMovie)') > 2).orderBy('UserID').show()\n"
   ]
  },
  {
   "cell_type": "code",
   "execution_count": 5,
   "metadata": {},
   "outputs": [
    {
     "name": "stdout",
     "output_type": "stream",
     "text": [
      "+-----+------+------------------+------------+--------------------+-------------+-------------+------------------+\n",
      "|Index|UserID|          UserName|WatchedMovie|          MovieGenre|SessionLength|LastLoginDate|DaysSinceLastLogin|\n",
      "+-----+------+------------------+------------+--------------------+-------------+-------------+------------------+\n",
      "|    0| 34557|    Leslie Shelton|       false|                NULL|          175|   2012-04-30|              4360|\n",
      "|    1| 48013|    Hannah Sanders|       false|                NULL|         1409|   2020-05-30|              1408|\n",
      "|    2| 13230|Christopher Torres|        true|     Adventure Drama|          181|   2009-11-25|              5247|\n",
      "|    3| 18988|Christopher Stokes|        true|Animation Adventu...|          179|   2022-02-15|               782|\n",
      "|    4| 29844|          Joel Cox|       false|                NULL|          227|   2012-06-09|              4320|\n",
      "|    5| 12305|       Jerry Perez|       false|                NULL|          288|   2015-05-10|              3255|\n",
      "|    6| 32806|      Paula Graham|        true|Adventure Biograp...|         1104|   2018-10-10|              2006|\n",
      "|    7| 18269|    George Watkins|        true|Action Mystery Th...|          767|   2019-08-20|              1692|\n",
      "|    8| 49081|     Alexis Robles|        true|     Action Thriller|          689|   2007-05-31|              6156|\n",
      "|    9| 37028|    Regina Aguirre|        true|    Mystery Thriller|          312|   2015-12-06|              3045|\n",
      "|   10|  3069|        Hannah Kim|       false|                NULL|           12|   2019-09-01|              1680|\n",
      "|   11| 30057|        Kim Little|       false|                NULL|          499|   2004-04-09|              7303|\n",
      "|   12| 24335|      Bryce Fowler|       false|                NULL|          742|   2019-12-13|              1577|\n",
      "|   13| 41663|      Amy Marshall|        true|Drama Mystery Sci-Fi|          177|   2012-07-30|              4269|\n",
      "|   14| 11286|   Jeffrey Hickman|       false|                NULL|          335|   2018-12-19|              1936|\n",
      "|   15| 25286|     Rhonda Wilson|       false|                NULL|         1010|   2002-11-06|              7823|\n",
      "|   16| 32032|    William Ibarra|        true|Action Mystery Th...|          605|   2018-12-13|              1942|\n",
      "|   17|  9939|       Nathan Ward|        true|    Mystery Thriller|          367|   2002-05-15|              7998|\n",
      "|   18| 15472|  Patricia Freeman|        true|Action Crime Dram...|          815|   2016-02-01|              2988|\n",
      "|   19| 37274|  Christopher Pace|       false|                NULL|         1174|   2001-05-26|              8352|\n",
      "+-----+------+------------------+------------+--------------------+-------------+-------------+------------------+\n",
      "only showing top 20 rows\n",
      "\n"
     ]
    }
   ],
   "source": [
    "# Task 5\n",
    "# Add a new column indicating the days since the last login for each user.\n",
    "\n",
    "df = df.withColumn('DaysSinceLastLogin', datediff(current_date(), df.LastLoginDate)) \n",
    "# df.printSchema()\n",
    "df.show()"
   ]
  }
 ],
 "metadata": {
  "kernelspec": {
   "display_name": "Python 3",
   "language": "python",
   "name": "python3"
  },
  "language_info": {
   "codemirror_mode": {
    "name": "ipython",
    "version": 3
   },
   "file_extension": ".py",
   "mimetype": "text/x-python",
   "name": "python",
   "nbconvert_exporter": "python",
   "pygments_lexer": "ipython3",
   "version": "3.10.6"
  }
 },
 "nbformat": 4,
 "nbformat_minor": 2
}
